{
 "cells": [
  {
   "cell_type": "code",
   "execution_count": null,
   "id": "f6314eeb",
   "metadata": {},
   "outputs": [],
   "source": [
    "from pathlib import Path\n",
    "from fastai.basics import *"
   ]
  },
  {
   "cell_type": "code",
   "execution_count": null,
   "id": "f08328f5",
   "metadata": {},
   "outputs": [],
   "source": [
    "path=Path('./danbooru2020')\n",
    "meta=path/'meta'"
   ]
  },
  {
   "cell_type": "code",
   "execution_count": null,
   "id": "47d27b81",
   "metadata": {},
   "outputs": [],
   "source": [
    "def read_json_filter(p,dtype=False):\n",
    "    table=pd.read_json(p,orient='records',typ='frame',lines=True,dtype={'id':'UInt32','image_width':'UInt16','image_height':'UInt16'})\n",
    "    table[table['rating']=='s']\n",
    "    return table[['id','image_width', 'image_height','tags']]"
   ]
  },
  {
   "cell_type": "markdown",
   "id": "254c7e5b",
   "metadata": {},
   "source": [
    "### Aggregate tags "
   ]
  },
  {
   "cell_type": "code",
   "execution_count": null,
   "id": "a1261f0e",
   "metadata": {},
   "outputs": [],
   "source": [
    "def tags_by_file(table,aggregate_tags={}):\n",
    "    for tags in table['tags']: \n",
    "        for tag in tags:\n",
    "            if tag['name'] in aggregate_tags:\n",
    "                aggregate_tags[tag['name']]['count']+=1\n",
    "            else:\n",
    "                aggregate_tags[tag['name']]={'id':tag['id'],'category':tag['category']}\n",
    "                aggregate_tags[tag['name']]['count']=1\n",
    "    return aggregate_tags\n",
    "def tags_by_name(paths):\n",
    "    named_tags={}\n",
    "    for i,p in enumerate(paths):\n",
    "        print(i)\n",
    "        table = read_json_filter(p)\n",
    "        named_tags=tags_by_file(table,named_tags)\n",
    "    return named_tags"
   ]
  },
  {
   "cell_type": "code",
   "execution_count": null,
   "id": "7af6efde",
   "metadata": {},
   "outputs": [],
   "source": [
    "list(meta.ls())"
   ]
  },
  {
   "cell_type": "code",
   "execution_count": null,
   "id": "6ca304d5",
   "metadata": {},
   "outputs": [],
   "source": [
    "named_tags=tags_by_name(meta.ls())"
   ]
  },
  {
   "cell_type": "code",
   "execution_count": null,
   "id": "008b9f28",
   "metadata": {},
   "outputs": [],
   "source": [
    "named_tags"
   ]
  },
  {
   "cell_type": "code",
   "execution_count": null,
   "id": "c033b4b7",
   "metadata": {},
   "outputs": [],
   "source": [
    "with open('named_tags' + '.pkl', 'wb') as f: pickle.dump(named_tags, f, pickle.HIGHEST_PROTOCOL)"
   ]
  },
  {
   "cell_type": "code",
   "execution_count": null,
   "id": "c045434e",
   "metadata": {},
   "outputs": [],
   "source": [
    "def tags_by_id(tags_list):\n",
    "    return {tag['id']:name for name,tag in tags_list}\n",
    "id_tags=tags_by_id(named_tags.items())"
   ]
  },
  {
   "cell_type": "code",
   "execution_count": null,
   "id": "a8f31c34",
   "metadata": {},
   "outputs": [],
   "source": [
    "id_tags"
   ]
  },
  {
   "cell_type": "code",
   "execution_count": null,
   "id": "fb5813ce",
   "metadata": {},
   "outputs": [],
   "source": [
    "with open('id_tags' + '.pkl', 'wb') as f: pickle.dump(id_tags, f, pickle.HIGHEST_PROTOCOL)"
   ]
  },
  {
   "cell_type": "markdown",
   "id": "b6cf8224",
   "metadata": {},
   "source": [
    "### Analyze Tag counts"
   ]
  },
  {
   "cell_type": "code",
   "execution_count": null,
   "id": "84cd3a96",
   "metadata": {},
   "outputs": [],
   "source": [
    "tag_counts=sorted(map(lambda t:t['count'],named_tags.values()))"
   ]
  },
  {
   "cell_type": "code",
   "execution_count": null,
   "id": "45b93577",
   "metadata": {},
   "outputs": [],
   "source": [
    "len(tag_counts)-len(list(filter(lambda t:t!=1,tag_counts)))"
   ]
  },
  {
   "cell_type": "code",
   "execution_count": null,
   "id": "4115095e",
   "metadata": {},
   "outputs": [],
   "source": [
    "tag_count=array(tag_counts)"
   ]
  },
  {
   "cell_type": "code",
   "execution_count": null,
   "id": "7c0199bc",
   "metadata": {},
   "outputs": [],
   "source": [
    "id_tags['470575'],len(id_tags)"
   ]
  },
  {
   "cell_type": "code",
   "execution_count": null,
   "id": "3b5e1604",
   "metadata": {},
   "outputs": [],
   "source": [
    "list(filter(lambda t:t['count']==3021593,named_tags.values()))"
   ]
  },
  {
   "cell_type": "code",
   "execution_count": null,
   "id": "69c2fbda",
   "metadata": {},
   "outputs": [],
   "source": [
    "named_tags"
   ]
  },
  {
   "cell_type": "code",
   "execution_count": null,
   "id": "66cc48d4",
   "metadata": {},
   "outputs": [],
   "source": [
    "list(filter(lambda i: i[1]['category'] == '4',named_tags.items()))"
   ]
  },
  {
   "cell_type": "code",
   "execution_count": null,
   "id": "66dfed7b",
   "metadata": {},
   "outputs": [],
   "source": [
    "array(tag_counts[134943:]),array(tag_counts[434500:])"
   ]
  },
  {
   "cell_type": "code",
   "execution_count": null,
   "id": "9da15652",
   "metadata": {},
   "outputs": [],
   "source": [
    "tag_counts[434000],tag_counts[-1]"
   ]
  },
  {
   "cell_type": "markdown",
   "id": "8ce62c3a",
   "metadata": {},
   "source": [
    "Tags are definitely scewed to a smaller subset of more popular tags. "
   ]
  },
  {
   "cell_type": "code",
   "execution_count": null,
   "id": "8abc581b",
   "metadata": {},
   "outputs": [],
   "source": [
    "plt.yscale(\"log\")\n",
    "plt.plot(tag_counts[:])"
   ]
  },
  {
   "cell_type": "markdown",
   "id": "5ff2d449",
   "metadata": {},
   "source": [
    "### Fix datatypes"
   ]
  },
  {
   "cell_type": "code",
   "execution_count": null,
   "id": "e09a0b68",
   "metadata": {},
   "outputs": [],
   "source": [
    "named_tags,id_tags"
   ]
  },
  {
   "cell_type": "code",
   "execution_count": null,
   "id": "86718df3",
   "metadata": {},
   "outputs": [],
   "source": [
    "named_tags={k:{'id':int(v['id']),'category':int(v['category']),'count':int(v['count'])} for k,v in named_tags.items()}\n",
    "with open('named_tags' + '.pkl', 'wb') as f: pickle.dump(named_tags, f, pickle.HIGHEST_PROTOCOL)"
   ]
  },
  {
   "cell_type": "code",
   "execution_count": null,
   "id": "d5bf8046",
   "metadata": {},
   "outputs": [],
   "source": [
    "id_tags={int(k):v for k,v in id_tags.items()}\n",
    "with open('id_tags' + '.pkl', 'wb') as f: pickle.dump(id_tags, f, pickle.HIGHEST_PROTOCOL)"
   ]
  },
  {
   "cell_type": "markdown",
   "id": "80c4bfd5",
   "metadata": {},
   "source": [
    "### Concat Tables "
   ]
  },
  {
   "cell_type": "markdown",
   "id": "4aad5c51",
   "metadata": {},
   "source": [
    "Restart notebook here if run out of memory"
   ]
  },
  {
   "cell_type": "code",
   "execution_count": null,
   "id": "fb18f50d",
   "metadata": {},
   "outputs": [],
   "source": [
    "with open('named_tags.pkl','rb') as f: named_tags=pickle.load(f)\n",
    "with open('id_tags.pkl','rb') as f: id_tags=pickle.load(f)"
   ]
  },
  {
   "cell_type": "code",
   "execution_count": null,
   "id": "9684e090",
   "metadata": {},
   "outputs": [],
   "source": [
    "def numericalize_tags(tags_column):\n",
    "    num_tags=[]\n",
    "    for tags in tags_column:\n",
    "        tgs=L(tags).map(lambda t:t['id']).map(int)\n",
    "        tgs=pd.array(list(tgs),dtype='UInt32')\n",
    "        num_tags+=[tgs]\n",
    "    return num_tags\n",
    "def concat_tables(paths):\n",
    "    concat_table=None\n",
    "    numeric_tags=[]\n",
    "    for i,p in enumerate(paths):\n",
    "        print(i,end=',')\n",
    "        table = read_json_filter(p)\n",
    "        if(concat_table is not None): pd.concat([concat_table,table.drop('tags', axis=1).copy()])\n",
    "        else: concat_table=table.drop('tags', axis=1).copy()\n",
    "        numeric_tags+=numericalize_tags(table['tags'])\n",
    "    concat_table['tags']=pd.Series(numeric_tags)\n",
    "    return concat_table"
   ]
  },
  {
   "cell_type": "code",
   "execution_count": null,
   "id": "54293bd8",
   "metadata": {},
   "outputs": [
    {
     "data": {
      "text/plain": [
       "[Path('danbooru2020/2020000000000000'),\n",
       " Path('danbooru2020/2020000000000001'),\n",
       " Path('danbooru2020/2020000000000002'),\n",
       " Path('danbooru2020/2020000000000003'),\n",
       " Path('danbooru2020/2020000000000004'),\n",
       " Path('danbooru2020/2020000000000005'),\n",
       " Path('danbooru2020/2020000000000006'),\n",
       " Path('danbooru2020/2020000000000007'),\n",
       " Path('danbooru2020/2020000000000008'),\n",
       " Path('danbooru2020/2020000000000009'),\n",
       " Path('danbooru2020/2020000000000010'),\n",
       " Path('danbooru2020/2020000000000011'),\n",
       " Path('danbooru2020/2020000000000012'),\n",
       " Path('danbooru2020/2020000000000013'),\n",
       " Path('danbooru2020/2020000000000014'),\n",
       " Path('danbooru2020/2020000000000015')]"
      ]
     },
     "execution_count": null,
     "metadata": {},
     "output_type": "execute_result"
    }
   ],
   "source": [
    "list(meta.ls())"
   ]
  },
  {
   "cell_type": "code",
   "execution_count": null,
   "id": "5c4e4d7c",
   "metadata": {},
   "outputs": [
    {
     "name": "stdout",
     "output_type": "stream",
     "text": [
      "0,1,2,3,4,5,6,7,8,9,10,11,12,13,14,15,"
     ]
    }
   ],
   "source": [
    "full_table=concat_tables(meta.ls())"
   ]
  },
  {
   "cell_type": "code",
   "execution_count": null,
   "id": "5138d9bf",
   "metadata": {},
   "outputs": [],
   "source": [
    "full_table.to_pickle('fulll_table.pkl')"
   ]
  },
  {
   "cell_type": "code",
   "execution_count": null,
   "id": "29634b11",
   "metadata": {},
   "outputs": [
    {
     "data": {
      "text/plain": [
       "dtype('uint16')"
      ]
     },
     "execution_count": null,
     "metadata": {},
     "output_type": "execute_result"
    }
   ],
   "source": [
    "full_table['image_width'].dtype"
   ]
  },
  {
   "cell_type": "code",
   "execution_count": null,
   "id": "62ae24e1",
   "metadata": {},
   "outputs": [
    {
     "data": {
      "text/html": [
       "<div>\n",
       "<style scoped>\n",
       "    .dataframe tbody tr th:only-of-type {\n",
       "        vertical-align: middle;\n",
       "    }\n",
       "\n",
       "    .dataframe tbody tr th {\n",
       "        vertical-align: top;\n",
       "    }\n",
       "\n",
       "    .dataframe thead th {\n",
       "        text-align: right;\n",
       "    }\n",
       "</style>\n",
       "<table border=\"1\" class=\"dataframe\">\n",
       "  <thead>\n",
       "    <tr style=\"text-align: right;\">\n",
       "      <th></th>\n",
       "      <th>id</th>\n",
       "      <th>image_width</th>\n",
       "      <th>image_height</th>\n",
       "      <th>tags</th>\n",
       "    </tr>\n",
       "  </thead>\n",
       "  <tbody>\n",
       "    <tr>\n",
       "      <th>0</th>\n",
       "      <td>263202</td>\n",
       "      <td>1042</td>\n",
       "      <td>1024</td>\n",
       "      <td>[1821, 466061, 437490, 16751, 537684, 16867, 1976, 13804, 454933, 446622, 1707, 16613, 13197, 1287928, 566835, 8526, 464575, 15189, 4123, 89189]</td>\n",
       "    </tr>\n",
       "    <tr>\n",
       "      <th>1</th>\n",
       "      <td>3014637</td>\n",
       "      <td>1191</td>\n",
       "      <td>1684</td>\n",
       "      <td>[1409425, 470575, 475187, 376054, 6539, 87788, 3389, 8601, 466499, 687973, 10960, 658573, 1566, 4311, 469576, 1442807, 9294, 11906, 412368, 212816, 15675, 444]</td>\n",
       "    </tr>\n",
       "    <tr>\n",
       "      <th>2</th>\n",
       "      <td>2872191</td>\n",
       "      <td>756</td>\n",
       "      <td>869</td>\n",
       "      <td>[470575, 497007, 632214, 380350, 1231860, 1377427, 11813, 469576, 16750, 11429, 389378, 1242303, 1709, 574407, 11154]</td>\n",
       "    </tr>\n",
       "    <tr>\n",
       "      <th>3</th>\n",
       "      <td>2873161</td>\n",
       "      <td>537</td>\n",
       "      <td>562</td>\n",
       "      <td>[1821, 273, 449529, 579793, 419429, 194013, 452195, 380350, 1231860, 1377427, 469576, 566835, 584749, 383282, 403577, 1387590, 684639, 581144, 1310137, 1242303, 16509, 268819, 15080, 472154, 412368, 429, 12682, 1709]</td>\n",
       "    </tr>\n",
       "    <tr>\n",
       "      <th>4</th>\n",
       "      <td>2872175</td>\n",
       "      <td>868</td>\n",
       "      <td>1228</td>\n",
       "      <td>[470575, 9114, 1247173, 613194, 513837, 380350, 426491, 1566, 1231860, 1377427, 401601, 1681, 438623, 2355, 16509, 268819, 8672, 412368, 1882, 515193, 10644]</td>\n",
       "    </tr>\n",
       "    <tr>\n",
       "      <th>...</th>\n",
       "      <td>...</td>\n",
       "      <td>...</td>\n",
       "      <td>...</td>\n",
       "      <td>...</td>\n",
       "    </tr>\n",
       "    <tr>\n",
       "      <th>265859</th>\n",
       "      <td>1957699</td>\n",
       "      <td>1500</td>\n",
       "      <td>2529</td>\n",
       "      <td>[452549, 540830, 470575, 11716, 1245245, 448621, 1245189, 13200, 613194, 10959, 3389, 8601, 478849, 613200, 616524, 622137, 1566, 1345396, 1231860, 13197, 7820, 387214, 450702, 9294, 390035, 383282, 16509, 12590, 8830, 429, 465265, 467104, 7952, 4569, 1882, 270, 1323068, 626, 4152]</td>\n",
       "    </tr>\n",
       "    <tr>\n",
       "      <th>265860</th>\n",
       "      <td>1661819</td>\n",
       "      <td>857</td>\n",
       "      <td>1167</td>\n",
       "      <td>[540830, 399836, 1585391, 1245245, 1244517, 396859, 464546, 1747, 63, 1575, 6532, 513837, 2373, 8705, 1231860, 9474, 849557, 567948, 1681, 566835, 1245319, 448202, 2355, 8565, 125238, 12682, 1709, 438129, 1243225]</td>\n",
       "    </tr>\n",
       "    <tr>\n",
       "      <th>265861</th>\n",
       "      <td>632933</td>\n",
       "      <td>782</td>\n",
       "      <td>1122</td>\n",
       "      <td>[470575, 8601, 7525, 9672, 378317, 667868, 8889, 212816]</td>\n",
       "    </tr>\n",
       "    <tr>\n",
       "      <th>265862</th>\n",
       "      <td>1419820</td>\n",
       "      <td>800</td>\n",
       "      <td>600</td>\n",
       "      <td>[470575, 1376130, 2585, 478565, 13200, 580545, 3389, 8601, 4607, 464559, 511141, 8066, 380350, 2646, 379945, 1707, 995722, 13197, 469576, 667868, 2365, 490999, 464572, 8526, 484168, 412368, 1815, 212816, 462808, 547463, 1250039, 760228]</td>\n",
       "    </tr>\n",
       "    <tr>\n",
       "      <th>265863</th>\n",
       "      <td>3717636</td>\n",
       "      <td>2405</td>\n",
       "      <td>3831</td>\n",
       "      <td>[470575, 11716, 89368, 527167, 1400438, 520850, 6539, 8601, 4607, 660909, 470790, 1451201, 6532, 1267600, 399541, 1566, 2785, 403247, 1593554, 13197, 1462591, 9294, 15522, 1530715, 212816, 444]</td>\n",
       "    </tr>\n",
       "  </tbody>\n",
       "</table>\n",
       "<p>265864 rows × 4 columns</p>\n",
       "</div>"
      ],
      "text/plain": [
       "             id  image_width  image_height  \\\n",
       "0        263202         1042          1024   \n",
       "1       3014637         1191          1684   \n",
       "2       2872191          756           869   \n",
       "3       2873161          537           562   \n",
       "4       2872175          868          1228   \n",
       "...         ...          ...           ...   \n",
       "265859  1957699         1500          2529   \n",
       "265860  1661819          857          1167   \n",
       "265861   632933          782          1122   \n",
       "265862  1419820          800           600   \n",
       "265863  3717636         2405          3831   \n",
       "\n",
       "                                                                                                                                                                                                                                                                                              tags  \n",
       "0                                                                                                                                                 [1821, 466061, 437490, 16751, 537684, 16867, 1976, 13804, 454933, 446622, 1707, 16613, 13197, 1287928, 566835, 8526, 464575, 15189, 4123, 89189]  \n",
       "1                                                                                                                                  [1409425, 470575, 475187, 376054, 6539, 87788, 3389, 8601, 466499, 687973, 10960, 658573, 1566, 4311, 469576, 1442807, 9294, 11906, 412368, 212816, 15675, 444]  \n",
       "2                                                                                                                                                                            [470575, 497007, 632214, 380350, 1231860, 1377427, 11813, 469576, 16750, 11429, 389378, 1242303, 1709, 574407, 11154]  \n",
       "3                                                                         [1821, 273, 449529, 579793, 419429, 194013, 452195, 380350, 1231860, 1377427, 469576, 566835, 584749, 383282, 403577, 1387590, 684639, 581144, 1310137, 1242303, 16509, 268819, 15080, 472154, 412368, 429, 12682, 1709]  \n",
       "4                                                                                                                                    [470575, 9114, 1247173, 613194, 513837, 380350, 426491, 1566, 1231860, 1377427, 401601, 1681, 438623, 2355, 16509, 268819, 8672, 412368, 1882, 515193, 10644]  \n",
       "...                                                                                                                                                                                                                                                                                            ...  \n",
       "265859  [452549, 540830, 470575, 11716, 1245245, 448621, 1245189, 13200, 613194, 10959, 3389, 8601, 478849, 613200, 616524, 622137, 1566, 1345396, 1231860, 13197, 7820, 387214, 450702, 9294, 390035, 383282, 16509, 12590, 8830, 429, 465265, 467104, 7952, 4569, 1882, 270, 1323068, 626, 4152]  \n",
       "265860                                                                       [540830, 399836, 1585391, 1245245, 1244517, 396859, 464546, 1747, 63, 1575, 6532, 513837, 2373, 8705, 1231860, 9474, 849557, 567948, 1681, 566835, 1245319, 448202, 2355, 8565, 125238, 12682, 1709, 438129, 1243225]  \n",
       "265861                                                                                                                                                                                                                                    [470575, 8601, 7525, 9672, 378317, 667868, 8889, 212816]  \n",
       "265862                                                [470575, 1376130, 2585, 478565, 13200, 580545, 3389, 8601, 4607, 464559, 511141, 8066, 380350, 2646, 379945, 1707, 995722, 13197, 469576, 667868, 2365, 490999, 464572, 8526, 484168, 412368, 1815, 212816, 462808, 547463, 1250039, 760228]  \n",
       "265863                                                                                           [470575, 11716, 89368, 527167, 1400438, 520850, 6539, 8601, 4607, 660909, 470790, 1451201, 6532, 1267600, 399541, 1566, 2785, 403247, 1593554, 13197, 1462591, 9294, 15522, 1530715, 212816, 444]  \n",
       "\n",
       "[265864 rows x 4 columns]"
      ]
     },
     "execution_count": null,
     "metadata": {},
     "output_type": "execute_result"
    }
   ],
   "source": [
    "full_table"
   ]
  },
  {
   "cell_type": "markdown",
   "id": "efceec09",
   "metadata": {},
   "source": [
    "We now have a way to access all relevant data in ram memory in a fairly data efficient way. Taking ~4 GB as opposed to 100+ GB. Converting the tags to unsigned ints as opposed to dictionaries of strings."
   ]
  },
  {
   "cell_type": "code",
   "execution_count": null,
   "id": "e7313df5",
   "metadata": {},
   "outputs": [],
   "source": []
  }
 ],
 "metadata": {
  "kernelspec": {
   "display_name": "Python 3",
   "language": "python",
   "name": "python3"
  }
 },
 "nbformat": 4,
 "nbformat_minor": 5
}
