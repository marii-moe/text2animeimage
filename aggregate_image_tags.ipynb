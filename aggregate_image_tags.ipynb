{
 "cells": [
  {
   "cell_type": "code",
   "execution_count": null,
   "id": "f6314eeb",
   "metadata": {},
   "outputs": [],
   "source": [
    "from pathlib import Path\n",
    "from fastai.basics import *\n",
    "from fastai.vision.data import get_image_files"
   ]
  },
  {
   "cell_type": "code",
   "execution_count": null,
   "id": "f08328f5",
   "metadata": {},
   "outputs": [],
   "source": [
    "path=Path('./danbooru2020')\n",
    "image_path=path/'512px/'\n",
    "meta=Path('metadata/2020')"
   ]
  },
  {
   "cell_type": "code",
   "execution_count": null,
   "id": "47d27b81",
   "metadata": {},
   "outputs": [],
   "source": [
    "def read_json_filter(p,dtype={'id':np.uint32,'image_width':np.uint16,'image_height':np.uint16},columns=['id','image_width', 'image_height','tags']):\n",
    "    table=pd.read_json(p,orient='records',typ='frame',lines=True,dtype=dtype)\n",
    "    table[table['rating']=='s']\n",
    "    return table[columns]"
   ]
  },
  {
   "cell_type": "markdown",
   "id": "22ac4f39",
   "metadata": {},
   "source": [
    "### Images, Metadata Overlap"
   ]
  },
  {
   "cell_type": "code",
   "execution_count": null,
   "id": "0f349c75",
   "metadata": {},
   "outputs": [],
   "source": [
    "def image_meta_overlap(paths,image_path):\n",
    "    filename_to_id=lambda p:int(re.compile(r'(\\d+).jpg').sub(r'\\1',p.name))\n",
    "    image_ids=get_image_files(image_path).map(filename_to_id)\n",
    "    joined_ids=pd.Series(data=[],dtype=np.uint32)\n",
    "    for i,p in enumerate(paths):\n",
    "        print(i,end=',')\n",
    "        ids=read_json_filter(p,columns=['id'])\n",
    "        ids=ids[ids['id'].isin(image_ids)]\n",
    "        joined_ids=joined_ids.append(ids['id'],ignore_index=True)\n",
    "    return joined_ids.sort_values(ignore_index=True)"
   ]
  },
  {
   "cell_type": "code",
   "execution_count": null,
   "id": "929bf27c",
   "metadata": {},
   "outputs": [
    {
     "name": "stdout",
     "output_type": "stream",
     "text": [
      "0,1,2,3,4,5,6,7,8,9,10,11,12,13,14,15,"
     ]
    },
    {
     "data": {
      "text/plain": [
       "(0    1\n",
       " 1    2\n",
       " 2    3\n",
       " 3    4\n",
       " 4    7\n",
       " dtype: uint32,\n",
       " 3227426)"
      ]
     },
     "execution_count": null,
     "metadata": {},
     "output_type": "execute_result"
    }
   ],
   "source": [
    "image_ids=image_meta_overlap(get_files(meta),image_path)\n",
    "image_ids[:5],len(image_ids)"
   ]
  },
  {
   "cell_type": "markdown",
   "id": "254c7e5b",
   "metadata": {},
   "source": [
    "### Aggregate tags "
   ]
  },
  {
   "cell_type": "code",
   "execution_count": null,
   "id": "a1261f0e",
   "metadata": {},
   "outputs": [],
   "source": [
    "def tags_by_file(table,aggregate_tags={}):\n",
    "    for tags in table['tags']: \n",
    "        for tag in tags:\n",
    "            if tag['name'] in aggregate_tags:\n",
    "                aggregate_tags[tag['name']]['count']+=1\n",
    "            else:\n",
    "                aggregate_tags[tag['name']]={'id':int(tag['id']),'category':int(tag['category'])}\n",
    "                aggregate_tags[tag['name']]['count']=1\n",
    "    return aggregate_tags\n",
    "def tags_by_name(paths):\n",
    "    named_tags={}\n",
    "    for i,p in enumerate(paths):\n",
    "        print(i,end=',')\n",
    "        table = read_json_filter(p)\n",
    "        table = table[table.id.isin(image_ids)]\n",
    "        named_tags=tags_by_file(table,named_tags)\n",
    "    return named_tags"
   ]
  },
  {
   "cell_type": "code",
   "execution_count": null,
   "id": "c4130df8",
   "metadata": {},
   "outputs": [
    {
     "data": {
      "text/plain": [
       "(#16) [Path('metadata/2020/2020000000000000'),Path('metadata/2020/2020000000000001'),Path('metadata/2020/2020000000000002'),Path('metadata/2020/2020000000000003'),Path('metadata/2020/2020000000000004'),Path('metadata/2020/2020000000000006'),Path('metadata/2020/2020000000000007'),Path('metadata/2020/2020000000000008'),Path('metadata/2020/2020000000000009'),Path('metadata/2020/2020000000000010')...]"
      ]
     },
     "execution_count": null,
     "metadata": {},
     "output_type": "execute_result"
    }
   ],
   "source": [
    "get_files(meta)"
   ]
  },
  {
   "cell_type": "code",
   "execution_count": null,
   "id": "6ca304d5",
   "metadata": {},
   "outputs": [
    {
     "name": "stdout",
     "output_type": "stream",
     "text": [
      "0,1,2,3,4,5,6,7,8,9,10,11,12,13,14,15,"
     ]
    }
   ],
   "source": [
    "named_tags=tags_by_name(get_files(meta))"
   ]
  },
  {
   "cell_type": "code",
   "execution_count": null,
   "id": "c033b4b7",
   "metadata": {},
   "outputs": [],
   "source": [
    "with open('named_tags' + '.pkl', 'wb') as f: pickle.dump(named_tags, f, pickle.HIGHEST_PROTOCOL)"
   ]
  },
  {
   "cell_type": "code",
   "execution_count": null,
   "id": "c045434e",
   "metadata": {},
   "outputs": [],
   "source": [
    "def tags_by_id(tags_list):\n",
    "    return {tag['id']:name for name,tag in tags_list}\n",
    "id_tags=tags_by_id(named_tags.items())"
   ]
  },
  {
   "cell_type": "code",
   "execution_count": null,
   "id": "fb5813ce",
   "metadata": {},
   "outputs": [],
   "source": [
    "with open('id_tags' + '.pkl', 'wb') as f: pickle.dump(id_tags, f, pickle.HIGHEST_PROTOCOL)"
   ]
  },
  {
   "cell_type": "markdown",
   "id": "b6cf8224",
   "metadata": {},
   "source": [
    "### Analyze Tag counts"
   ]
  },
  {
   "cell_type": "code",
   "execution_count": null,
   "id": "84cd3a96",
   "metadata": {},
   "outputs": [],
   "source": [
    "tag_counts=sorted(map(lambda t:t['count'],named_tags.values()))"
   ]
  },
  {
   "cell_type": "code",
   "execution_count": null,
   "id": "45b93577",
   "metadata": {},
   "outputs": [
    {
     "data": {
      "text/plain": [
       "128358"
      ]
     },
     "execution_count": null,
     "metadata": {},
     "output_type": "execute_result"
    }
   ],
   "source": [
    "len(tag_counts)-len(list(filter(lambda t:t!=1,tag_counts)))"
   ]
  },
  {
   "cell_type": "code",
   "execution_count": null,
   "id": "4115095e",
   "metadata": {},
   "outputs": [],
   "source": [
    "tag_count=array(tag_counts)"
   ]
  },
  {
   "cell_type": "code",
   "execution_count": null,
   "id": "7c0199bc",
   "metadata": {},
   "outputs": [
    {
     "data": {
      "text/plain": [
       "('1girl', 396177)"
      ]
     },
     "execution_count": null,
     "metadata": {},
     "output_type": "execute_result"
    }
   ],
   "source": [
    "id_tags[470575],len(id_tags)"
   ]
  },
  {
   "cell_type": "code",
   "execution_count": null,
   "id": "9da15652",
   "metadata": {},
   "outputs": [
    {
     "data": {
      "text/plain": [
       "(4, 2185664)"
      ]
     },
     "execution_count": null,
     "metadata": {},
     "output_type": "execute_result"
    }
   ],
   "source": [
    "tag_counts[234000],tag_counts[-1]"
   ]
  },
  {
   "cell_type": "markdown",
   "id": "8ce62c3a",
   "metadata": {},
   "source": [
    "Tags are heavily scewed to a smaller subset of more popular tags. "
   ]
  },
  {
   "cell_type": "code",
   "execution_count": null,
   "id": "8abc581b",
   "metadata": {},
   "outputs": [
    {
     "data": {
      "text/plain": [
       "[<matplotlib.lines.Line2D at 0x7f33e94fe790>]"
      ]
     },
     "execution_count": null,
     "metadata": {},
     "output_type": "execute_result"
    },
    {
     "data": {
      "image/png": "[encoded data removed]",
      "text/plain": [
       "<Figure size 432x288 with 1 Axes>"
      ]
     },
     "metadata": {
      "needs_background": "light"
     },
     "output_type": "display_data"
    }
   ],
   "source": [
    "plt.yscale(\"log\")\n",
    "plt.plot(tag_counts[:])"
   ]
  },
  {
   "cell_type": "code",
   "execution_count": null,
   "id": "eaacbbe3",
   "metadata": {},
   "outputs": [
    {
     "data": {
      "text/plain": [
       "3227426"
      ]
     },
     "execution_count": null,
     "metadata": {},
     "output_type": "execute_result"
    }
   ],
   "source": [
    "len(image_ids)"
   ]
  },
  {
   "cell_type": "markdown",
   "id": "80c4bfd5",
   "metadata": {},
   "source": [
    "### Concat Tables "
   ]
  },
  {
   "cell_type": "markdown",
   "id": "4aad5c51",
   "metadata": {},
   "source": [
    "Restart notebook here if run out of memory"
   ]
  },
  {
   "cell_type": "markdown",
   "id": "d3850d88",
   "metadata": {},
   "source": [
    "Freeing up some memory"
   ]
  },
  {
   "cell_type": "code",
   "execution_count": null,
   "id": "0909d504",
   "metadata": {},
   "outputs": [],
   "source": [
    "with open('image_ids' + '.pkl', 'wb') as f: pickle.dump(image_ids, f, pickle.HIGHEST_PROTOCOL)"
   ]
  },
  {
   "cell_type": "code",
   "execution_count": null,
   "id": "6447dc6c",
   "metadata": {},
   "outputs": [],
   "source": [
    "del named_tags\n",
    "del id_tags\n",
    "del tag_count\n",
    "del tag_counts\n",
    "del image_ids"
   ]
  },
  {
   "cell_type": "code",
   "execution_count": null,
   "id": "89997eef",
   "metadata": {},
   "outputs": [],
   "source": [
    "with open('image_ids.pkl','rb') as f: image_ids=pickle.load(f)"
   ]
  },
  {
   "cell_type": "code",
   "execution_count": null,
   "id": "9684e090",
   "metadata": {},
   "outputs": [],
   "source": [
    "def numericalize_tags(tags_column):\n",
    "    num_tags=[]\n",
    "    for tags in tags_column:\n",
    "        tgs=L(tags).map(lambda t:t['id']).map(int)\n",
    "        tgs=pd.array(list(tgs),dtype='UInt32')\n",
    "        num_tags+=[tgs]\n",
    "    return num_tags\n",
    "def concat_tables(paths):\n",
    "    concat_table=None\n",
    "    numeric_tags=[]\n",
    "    for i,p in enumerate(paths):\n",
    "        print(i,end=',')\n",
    "        table = read_json_filter(p)\n",
    "        table = table[table.id.isin(image_ids)]\n",
    "        if(concat_table is not None): concat_table=pd.concat([concat_table,table.drop('tags', axis=1).copy()],ignore_index=True)\n",
    "        else: concat_table=table.drop('tags', axis=1).copy()\n",
    "        numeric_tags+=numericalize_tags(table['tags'])\n",
    "    concat_table['tags']=pd.Series(numeric_tags)\n",
    "    return concat_table"
   ]
  },
  {
   "cell_type": "code",
   "execution_count": null,
   "id": "5c4e4d7c",
   "metadata": {},
   "outputs": [
    {
     "name": "stdout",
     "output_type": "stream",
     "text": [
      "0,1,2,3,4,5,6,7,8,9,10,11,12,13,14,15,"
     ]
    }
   ],
   "source": [
    "full_table=concat_tables(get_files(meta))"
   ]
  },
  {
   "cell_type": "code",
   "execution_count": null,
   "id": "29634b11",
   "metadata": {},
   "outputs": [
    {
     "data": {
      "text/plain": [
       "dtype('uint16')"
      ]
     },
     "execution_count": null,
     "metadata": {},
     "output_type": "execute_result"
    }
   ],
   "source": [
    "full_table['image_width'].dtype"
   ]
  },
  {
   "cell_type": "code",
   "execution_count": null,
   "id": "62ae24e1",
   "metadata": {},
   "outputs": [
    {
     "data": {
      "text/plain": [
       "(3227426,)"
      ]
     },
     "execution_count": null,
     "metadata": {},
     "output_type": "execute_result"
    }
   ],
   "source": [
    "full_table.id.shape #should be 3209092?!?"
   ]
  },
  {
   "cell_type": "code",
   "execution_count": null,
   "id": "cff88d9a",
   "metadata": {},
   "outputs": [],
   "source": [
    "full_table.to_pickle('fulll_table.pkl')"
   ]
  },
  {
   "cell_type": "markdown",
   "id": "efceec09",
   "metadata": {},
   "source": [
    "We now have a way to access all relevant data in ram memory in a fairly data efficient way. Taking ~4 GB as opposed to 100+ GB. Converting the tags to unsigned ints as opposed to dictionaries of strings."
   ]
  }
 ],
 "metadata": {
  "kernelspec": {
   "display_name": "Python 3 (ipykernel)",
   "language": "python",
   "name": "python3"
  }
 },
 "nbformat": 4,
 "nbformat_minor": 5
}
